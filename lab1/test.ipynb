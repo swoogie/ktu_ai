{
 "cells": [
  {
   "cell_type": "code",
   "execution_count": 1,
   "metadata": {},
   "outputs": [
    {
     "name": "stdout",
     "output_type": "stream",
     "text": [
      "Mean Squared Error: 19700000000.0\n",
      "Predicted Price: $400,000.00\n"
     ]
    }
   ],
   "source": [
    "import numpy as np\n",
    "from sklearn.neighbors import KNeighborsRegressor\n",
    "from sklearn.model_selection import train_test_split\n",
    "from sklearn.metrics import mean_squared_error\n",
    "\n",
    "# Example data: sq_feet, bedrooms, price\n",
    "data = np.array([\n",
    "    [850, 2, 250000],\n",
    "    [900, 2, 270000],\n",
    "    [1200, 3, 350000],\n",
    "    [1500, 3, 400000],\n",
    "    [1750, 4, 450000],\n",
    "    [2000, 4, 500000],\n",
    "    [2250, 5, 550000],\n",
    "])\n",
    "\n",
    "# Split features and target (price)\n",
    "X = data[:, :2]  # Features: sq_feet and bedrooms\n",
    "y = data[:, 2]   # Target: price\n",
    "\n",
    "# Train/test split\n",
    "X_train, X_test, y_train, y_test = train_test_split(X, y, test_size=0.2, random_state=42)\n",
    "\n",
    "# Initialize and train the KNN regressor\n",
    "knn = KNeighborsRegressor(n_neighbors=3)\n",
    "knn.fit(X_train, y_train)\n",
    "\n",
    "# Predict the price of the test set\n",
    "y_pred = knn.predict(X_test)\n",
    "\n",
    "# Evaluate the model\n",
    "mse = mean_squared_error(y_test, y_pred)\n",
    "print(f\"Mean Squared Error: {mse}\")\n",
    "\n",
    "# Example prediction for a new apartment\n",
    "new_apartment = np.array([[1400, 3]])  # 1400 sq_feet, 3 bedrooms\n",
    "predicted_price = knn.predict(new_apartment)\n",
    "print(f\"Predicted Price: ${predicted_price[0]:,.2f}\")\n",
    "\n"
   ]
  }
 ],
 "metadata": {
  "kernelspec": {
   "display_name": "venv",
   "language": "python",
   "name": "python3"
  },
  "language_info": {
   "codemirror_mode": {
    "name": "ipython",
    "version": 3
   },
   "file_extension": ".py",
   "mimetype": "text/x-python",
   "name": "python",
   "nbconvert_exporter": "python",
   "pygments_lexer": "ipython3",
   "version": "3.12.2"
  }
 },
 "nbformat": 4,
 "nbformat_minor": 2
}
